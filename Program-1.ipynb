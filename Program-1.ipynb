{
 "cells": [
  {
   "cell_type": "code",
   "execution_count": 7,
   "id": "c90004a5",
   "metadata": {},
   "outputs": [
    {
     "name": "stdout",
     "output_type": "stream",
     "text": [
      "Adoni, Kurnool, Andhra Pradesh, India\n",
      "Latitude =  15.6559189 \n",
      "\n",
      "Longitude =  77.26977367379274\n"
     ]
    }
   ],
   "source": [
    "#Getting Map Coordinates \n",
    "# importing geopy library\n",
    "from geopy.geocoders import Nominatim\n",
    "\n",
    "# calling the Nominatim tool\n",
    "loc = Nominatim(user_agent=\"AREKAL\")\n",
    "\n",
    "# entering the location name\n",
    "getLoc = loc.geocode(\"ADONI\")\n",
    "\n",
    "# printing address\n",
    "print(getLoc.address)\n",
    "\n",
    "# printing latitude and longitude\n",
    "print(\"Latitude = \", getLoc.latitude, \"\\n\")\n",
    "print(\"Longitude = \", getLoc.longitude)"
   ]
  },
  {
   "cell_type": "code",
   "execution_count": 21,
   "id": "dba15479",
   "metadata": {},
   "outputs": [
    {
     "name": "stdout",
     "output_type": "stream",
     "text": [
      "Enter the place name: adoni\n"
     ]
    }
   ],
   "source": [
    "#Google Place Locator\n",
    "from geopy.geocoders import Nominatim\n",
    "import folium\n",
    "\n",
    "def get_coordinates(place_name):\n",
    "    geolocator = Nominatim(user_agent=\"place_locator\")\n",
    "    location = geolocator.geocode(place_name)\n",
    "    if location:\n",
    "        return location.latitude, location.longitude\n",
    "    else:\n",
    "        return None\n",
    "\n",
    "def show_place_on_map(place_name):\n",
    "    coordinates = get_coordinates(place_name)\n",
    "\n",
    "    if coordinates:\n",
    "        # Create a folium map centered around the coordinates\n",
    "        map_location = folium.Map(location=coordinates, zoom_start=15)\n",
    "\n",
    "        # Add a marker for the specified place\n",
    "        folium.Marker(location=coordinates, popup=place_name).add_to(map_location)\n",
    "\n",
    "        # Save the map as an HTML file and open it in the default web browser\n",
    "        map_location.save(\"map_location.html\")\n",
    "        import webbrowser\n",
    "        webbrowser.open(\"map_location.html\")\n",
    "\n",
    "    else:\n",
    "        print(f\"Could not find coordinates for {place_name}\")\n",
    "\n",
    "if __name__ == \"__main__\":\n",
    "    user_input = input(\"Enter the place name: \")\n",
    "    show_place_on_map(user_input)"
   ]
  },
  {
   "cell_type": "code",
   "execution_count": 27,
   "id": "6e17201a",
   "metadata": {},
   "outputs": [
    {
     "name": "stdout",
     "output_type": "stream",
     "text": [
      "Enter a place name: London\n",
      "Coordinates for London: Latitude 51.5074456, Longitude -0.1277653\n"
     ]
    }
   ],
   "source": [
    "#Generating Coordinates \n",
    "from geopy.geocoders import Nominatim\n",
    "\n",
    "def get_coordinates(place_name):\n",
    "    geolocator = Nominatim(user_agent=\"your_app_name\")\n",
    "    location = geolocator.geocode(place_name)\n",
    "\n",
    "    if location:\n",
    "        return location.latitude, location.longitude\n",
    "    else:\n",
    "        print(f\"Coordinates not found for {place_name}\")\n",
    "        return None\n",
    "\n",
    "# Example usage\n",
    "user_input_place = input(\"Enter a place name: \")\n",
    "coordinates = get_coordinates(user_input_place)\n",
    "\n",
    "if coordinates:\n",
    "    print(f\"Coordinates for {user_input_place}: Latitude {coordinates[0]}, Longitude {coordinates[1]}\")"
   ]
  },
  {
   "cell_type": "code",
   "execution_count": 35,
   "id": "1637a131",
   "metadata": {},
   "outputs": [
    {
     "name": "stdout",
     "output_type": "stream",
     "text": [
      "Enter latitude:15.355\n",
      "Enter longitue:77.269\n",
      "Map generated successfully. Address: Aluru, Alur, Kurnool, Andhra Pradesh, 518395, India\n",
      "Map saved to generated_map.html\n"
     ]
    }
   ],
   "source": [
    "#Generating place name using coordinates\n",
    "import folium\n",
    "from geopy.geocoders import Nominatim\n",
    "\n",
    "def generate_map_and_place_name(latitude, longitude):\n",
    "    # Convert coordinates to human-readable address\n",
    "    geolocator = Nominatim(user_agent=\"map_generator\")\n",
    "    location = geolocator.reverse((latitude, longitude), language='en')\n",
    "    address = location.address if location else \"Address not found\"\n",
    "\n",
    "    # Generate map centered at the given coordinates\n",
    "    map_center = [latitude, longitude]\n",
    "    my_map = folium.Map(location=map_center, zoom_start=15)\n",
    "\n",
    "    # Add a marker with a popup displaying the address\n",
    "    folium.Marker(location=map_center, popup=folium.Popup(address, parse_html=True)).add_to(my_map)\n",
    "\n",
    "    # Save the map to an HTML file or display it\n",
    "    map_filename = \"generated_map.html\"\n",
    "    my_map.save(map_filename)\n",
    "    print(f\"Map generated successfully. Address: {address}\")\n",
    "    print(f\"Map saved to {map_filename}\")\n",
    "\n",
    "if __name__ == \"__main__\":\n",
    "    # Example coordinates (you can replace these with user input)\n",
    "    user_latitude = float(input(\"Enter latitude:\"))\n",
    "    user_longitude = float(input(\"Enter longitue:\"))\n",
    "\n",
    "    generate_map_and_place_name(user_latitude, user_longitude)"
   ]
  },
  {
   "cell_type": "code",
   "execution_count": 41,
   "id": "9e87175d",
   "metadata": {},
   "outputs": [
    {
     "name": "stdout",
     "output_type": "stream",
     "text": [
      "Current ISS Location: Latitude -11.4636, Longitude -11.9593\n",
      "Error: Expecting value: line 1 column 1 (char 0)\n"
     ]
    }
   ],
   "source": [
    "#ISS Present Coordinates\n",
    "import requests\n",
    "from datetime import datetime\n",
    "\n",
    "def get_iss_location():\n",
    "    try:\n",
    "        response = requests.get(\"http://api.open-notify.org/iss-now.json\")\n",
    "        data = response.json()\n",
    "        iss_location = data['iss_position']\n",
    "        latitude = float(iss_location['latitude'])\n",
    "        longitude = float(iss_location['longitude'])\n",
    "        return latitude, longitude\n",
    "    except Exception as e:\n",
    "        print(f\"Error: {e}\")\n",
    "        return None\n",
    "\n",
    "def get_iss_pass_times(latitude, longitude, num_passes=5):\n",
    "    try:\n",
    "        response = requests.get(f\"http://api.open-notify.org/iss-pass.json?lat={latitude}&lon={longitude}&n={num_passes}\")\n",
    "        data = response.json()\n",
    "        pass_times = data['response']\n",
    "        return pass_times\n",
    "    except Exception as e:\n",
    "        print(f\"Error: {e}\")\n",
    "        return None\n",
    "\n",
    "# Get the current ISS location\n",
    "current_location = get_iss_location()\n",
    "if current_location:\n",
    "    print(f\"Current ISS Location: Latitude {current_location[0]}, Longitude {current_location[1]}\")\n",
    "\n",
    "# Example: Get upcoming ISS pass times for New York City\n",
    "latitude_nyc, longitude_nyc = 40.7128, -74.0060\n",
    "pass_times_nyc = get_iss_pass_times(latitude_nyc, longitude_nyc)\n",
    "\n",
    "if pass_times_nyc:\n",
    "    print(\"\\nUpcoming ISS Pass Times for New York City:\")\n",
    "    for pass_info in pass_times_nyc:\n",
    "        risetime_unix = pass_info['risetime']\n",
    "        risetime_utc = datetime.utcfromtimestamp(risetime_unix)\n",
    "        duration_seconds = pass_info['duration']\n",
    "        print(f\"Rise Time (UTC): {risetime_utc}, Duration: {duration_seconds} seconds\")"
   ]
  },
  {
   "cell_type": "code",
   "execution_count": null,
   "id": "04ba41f7",
   "metadata": {},
   "outputs": [],
   "source": []
  }
 ],
 "metadata": {
  "kernelspec": {
   "display_name": "Python 3 (ipykernel)",
   "language": "python",
   "name": "python3"
  },
  "language_info": {
   "codemirror_mode": {
    "name": "ipython",
    "version": 3
   },
   "file_extension": ".py",
   "mimetype": "text/x-python",
   "name": "python",
   "nbconvert_exporter": "python",
   "pygments_lexer": "ipython3",
   "version": "3.11.5"
  }
 },
 "nbformat": 4,
 "nbformat_minor": 5
}
