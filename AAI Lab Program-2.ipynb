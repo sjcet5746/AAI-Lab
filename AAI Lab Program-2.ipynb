{
 "cells": [
  {
   "cell_type": "code",
   "execution_count": 10,
   "id": "6f7e02fe",
   "metadata": {},
   "outputs": [
    {
     "name": "stdout",
     "output_type": "stream",
     "text": [
      "Enter the path to the image: C:/Users/Public/Gskd/AAI/Program-2/Elonmusk.png\n"
     ]
    }
   ],
   "source": [
    "import cv2\n",
    "\n",
    "def detect_faces(image_path):\n",
    "    # Load the pre-trained face detection model\n",
    "    face_cascade = cv2.CascadeClassifier(cv2.data.haarcascades + 'haarcascade_frontalface_default.xml')\n",
    "    \n",
    "    # Read the image\n",
    "    image = cv2.imread(image_path)\n",
    "    \n",
    "    # Convert the image to grayscale\n",
    "    gray_image = cv2.cvtColor(image, cv2.COLOR_BGR2GRAY)\n",
    "    \n",
    "    # Detect faces in the image\n",
    "    faces = face_cascade.detectMultiScale(gray_image, scaleFactor=1.1, minNeighbors=5, minSize=(30, 30))\n",
    "    \n",
    "    # Draw rectangles around the faces\n",
    "    for (x, y, w, h) in faces:\n",
    "        cv2.rectangle(image, (x, y), (x+w, y+h), (0, 255, 0), 2)\n",
    "    \n",
    "    # Display the image with detected faces\n",
    "    cv2.imshow('Faces Detected', image)\n",
    "    cv2.waitKey(0)\n",
    "    cv2.destroyAllWindows()\n",
    "\n",
    "if __name__ == \"__main__\":\n",
    "    # Input image path from the user\n",
    "    image_path = input(\"Enter the path to the image: \")\n",
    "    \n",
    "    # Call the function to detect faces\n",
    "    detect_faces(image_path)"
   ]
  },
  {
   "cell_type": "code",
   "execution_count": 17,
   "id": "3fdb11c2",
   "metadata": {},
   "outputs": [
    {
     "name": "stdout",
     "output_type": "stream",
     "text": [
      "Enter the path to the image: C:/Users/Public/Gskd/AAI/Program-2/Elonmusk.png\n",
      "This is a known face!\n"
     ]
    }
   ],
   "source": [
    "import face_recognition\n",
    "import cv2\n",
    "\n",
    "def identify_faces(image_path):\n",
    "    # Load the image with faces\n",
    "    image = face_recognition.load_image_file(image_path)\n",
    "    \n",
    "    # Find face locations and encodings in the image\n",
    "    face_locations = face_recognition.face_locations(image)\n",
    "    face_encodings = face_recognition.face_encodings(image, face_locations)\n",
    "    \n",
    "    # Load a sample image to compare against\n",
    "    known_image = face_recognition.load_image_file(\"C:/Users/Public/Gskd/AAI/Program-2/Elonmusk.png\")\n",
    "    known_face_encoding = face_recognition.face_encodings(known_image)[0]\n",
    "    \n",
    "    # Compare each face found in the image with the known face\n",
    "    for face_encoding in face_encodings:\n",
    "        # Compare faces\n",
    "        results = face_recognition.compare_faces([known_face_encoding], face_encoding)\n",
    "        \n",
    "        # Print the result\n",
    "        if results[0]:\n",
    "            print(\"This is a known face!\")\n",
    "        else:\n",
    "            print(\"This is an unknown face.\")\n",
    "\n",
    "        # Display the face\n",
    "        cv2.imshow(\"Face\", image)\n",
    "        cv2.waitKey(0)\n",
    "        cv2.destroyAllWindows()\n",
    "\n",
    "if __name__ == \"__main__\":\n",
    "    # Input image path from the user\n",
    "    image_path = input(\"Enter the path to the image: \")\n",
    "    \n",
    "    # Call the function to identify faces\n",
    "    identify_faces(image_path)"
   ]
  },
  {
   "cell_type": "code",
   "execution_count": null,
   "id": "b8faad07",
   "metadata": {},
   "outputs": [],
   "source": [
    "pip install opencv-python"
   ]
  },
  {
   "cell_type": "code",
   "execution_count": 7,
   "id": "75f7f54d",
   "metadata": {},
   "outputs": [],
   "source": [
    "import cv2"
   ]
  },
  {
   "cell_type": "code",
   "execution_count": 8,
   "id": "29643937",
   "metadata": {},
   "outputs": [
    {
     "name": "stdout",
     "output_type": "stream",
     "text": [
      "Microsoft Windows [Version 10.0.22631.2861]\n",
      "(c) Microsoft Corporation. All rights reserved.\n",
      "\n",
      "C:\\Users\\sjcet>where python\n",
      "C:\\Users\\sjcet\\anaconda3\\python.exe\n",
      "C:\\Users\\sjcet\\AppData\\Local\\Microsoft\\WindowsApps\\python.exe\n",
      "\n",
      "C:\\Users\\sjcet>"
     ]
    }
   ],
   "source": [
    "%%cmd\n",
    "where python"
   ]
  },
  {
   "cell_type": "code",
   "execution_count": 9,
   "id": "e961218a",
   "metadata": {},
   "outputs": [
    {
     "name": "stdout",
     "output_type": "stream",
     "text": [
      "Microsoft Windows [Version 10.0.22631.2861]\n",
      "(c) Microsoft Corporation. All rights reserved.\n",
      "\n",
      "C:\\Users\\sjcet>pip install cmake\n",
      "Collecting cmake\n",
      "  Obtaining dependency information for cmake from https://files.pythonhosted.org/packages/09/fc/0ad863c735a11f2d3740e718040267fffe540ea79f7800621062f21286ca/cmake-3.28.1-py2.py3-none-win_amd64.whl.metadata\n",
      "  Using cached cmake-3.28.1-py2.py3-none-win_amd64.whl.metadata (6.5 kB)\n",
      "Using cached cmake-3.28.1-py2.py3-none-win_amd64.whl (35.8 MB)\n",
      "Installing collected packages: cmake\n",
      "Successfully installed cmake-3.28.1\n",
      "\n",
      "C:\\Users\\sjcet>"
     ]
    }
   ],
   "source": [
    "%%cmd\n",
    "pip install cmake"
   ]
  },
  {
   "cell_type": "code",
   "execution_count": 10,
   "id": "1b7d3489",
   "metadata": {},
   "outputs": [
    {
     "name": "stdout",
     "output_type": "stream",
     "text": [
      "Microsoft Windows [Version 10.0.22631.2861]\n",
      "(c) Microsoft Corporation. All rights reserved.\n",
      "\n",
      "C:\\Users\\sjcet>pip install \"C:/Users/Public/Gskd\\AAI/Program-2/dlib-19.24.1-cp311-cp311-win_amd64.whl\"\n",
      "Processing c:\\users\\public\\gskd\\aai\\program-2\\dlib-19.24.1-cp311-cp311-win_amd64.whl\n",
      "Installing collected packages: dlib\n",
      "Successfully installed dlib-19.24.1\n",
      "\n",
      "C:\\Users\\sjcet>"
     ]
    }
   ],
   "source": [
    "%%cmd\n",
    "pip install \"C:/Users/Public/Gskd\\AAI/Program-2/dlib-19.24.1-cp311-cp311-win_amd64.whl\""
   ]
  },
  {
   "cell_type": "code",
   "execution_count": 16,
   "id": "3f6ceec0",
   "metadata": {
    "scrolled": true
   },
   "outputs": [
    {
     "name": "stdout",
     "output_type": "stream",
     "text": [
      "Microsoft Windows [Version 10.0.22631.2861]\n",
      "(c) Microsoft Corporation. All rights reserved.\n",
      "\n",
      "C:\\Users\\sjcet>pip install dlib\n",
      "Requirement already satisfied: dlib in c:\\users\\sjcet\\anaconda3\\lib\\site-packages (19.24.1)\n",
      "\n",
      "C:\\Users\\sjcet>"
     ]
    }
   ],
   "source": [
    "%%cmd \n",
    "pip install dlib"
   ]
  },
  {
   "cell_type": "code",
   "execution_count": null,
   "id": "517a50c1",
   "metadata": {},
   "outputs": [],
   "source": [
    "%%cmd \n",
    "pip install face_recognition"
   ]
  },
  {
   "cell_type": "code",
   "execution_count": null,
   "id": "5825cb40",
   "metadata": {},
   "outputs": [],
   "source": []
  }
 ],
 "metadata": {
  "kernelspec": {
   "display_name": "Python 3 (ipykernel)",
   "language": "python",
   "name": "python3"
  },
  "language_info": {
   "codemirror_mode": {
    "name": "ipython",
    "version": 3
   },
   "file_extension": ".py",
   "mimetype": "text/x-python",
   "name": "python",
   "nbconvert_exporter": "python",
   "pygments_lexer": "ipython3",
   "version": "3.11.5"
  }
 },
 "nbformat": 4,
 "nbformat_minor": 5
}
